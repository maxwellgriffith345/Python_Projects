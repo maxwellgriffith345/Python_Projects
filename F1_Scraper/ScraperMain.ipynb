{
 "cells": [
  {
   "cell_type": "code",
   "execution_count": 1,
   "id": "684f99a2",
   "metadata": {},
   "outputs": [],
   "source": [
    "import requests,bs4, csv, os\n",
    "import numpy as np\n",
    "import pandas as pd\n",
    "import f1scraper1 as scrape"
   ]
  },
  {
   "cell_type": "code",
   "execution_count": 2,
   "id": "e654df68",
   "metadata": {},
   "outputs": [],
   "source": [
    "main_url = 'https://www.formula1.com/en/results.html'\n",
    "main_soup = scrape.get_soup(main_url)\n",
    "year_links = scrape.get_year_links(main_soup) #get all year links"
   ]
  },
  {
   "cell_type": "code",
   "execution_count": 3,
   "id": "b3957b94",
   "metadata": {},
   "outputs": [],
   "source": [
    "column_names = ['Pos', 'No', 'Driver', 'Car', 'Laps', 'Time/Retired', 'PTS',\n",
    "       'race','date', 'circuit']\n",
    "main_df = pd.DataFrame(columns = column_names)"
   ]
  },
  {
   "cell_type": "code",
   "execution_count": 4,
   "id": "20c3b35c",
   "metadata": {},
   "outputs": [
    {
     "data": {
      "text/plain": [
       "['https://www.formula1.com/en/results.html/2020/races.html',\n",
       " 'https://www.formula1.com/en/results.html/2019/races.html']"
      ]
     },
     "execution_count": 4,
     "metadata": {},
     "output_type": "execute_result"
    }
   ],
   "source": [
    "years19_20 = year_links[1:3]\n",
    "years19_20"
   ]
  },
  {
   "cell_type": "code",
   "execution_count": 7,
   "id": "e1e27273",
   "metadata": {},
   "outputs": [],
   "source": [
    "#SLOW AS SHIT\n",
    "for year in years19_20:\n",
    "    year_soup = scrape.get_soup(year)\n",
    "    racelinks = scrape.get_race_links(year_soup)\n",
    "    racelinks.pop(0)\n",
    "    for link in racelinks:\n",
    "        race_soup = scrape.get_soup(link)\n",
    "        date,info = scrape.get_date_info(race_soup)\n",
    "        name = scrape.get_race_name(race_soup)\n",
    "        table = pd.read_html(link)\n",
    "        df = table[0]\n",
    "        df[['race','date','circuit']] = name,date,info\n",
    "        main_df = main_df.append(df)"
   ]
  },
  {
   "cell_type": "code",
   "execution_count": null,
   "id": "b4e995d5",
   "metadata": {},
   "outputs": [],
   "source": [
    "main_df.drop(['Unnamed: 0','Unnamed: 8'], axis =1, inplace = True)"
   ]
  },
  {
   "cell_type": "code",
   "execution_count": null,
   "id": "87aca15b",
   "metadata": {},
   "outputs": [],
   "source": [
    "main_df.to_csv('raw_f1.csv', index =False)"
   ]
  },
  {
   "cell_type": "code",
   "execution_count": null,
   "id": "4f5eadbb",
   "metadata": {},
   "outputs": [],
   "source": []
  }
 ],
 "metadata": {
  "kernelspec": {
   "display_name": "Python 3",
   "language": "python",
   "name": "python3"
  },
  "language_info": {
   "codemirror_mode": {
    "name": "ipython",
    "version": 3
   },
   "file_extension": ".py",
   "mimetype": "text/x-python",
   "name": "python",
   "nbconvert_exporter": "python",
   "pygments_lexer": "ipython3",
   "version": "3.8.5"
  }
 },
 "nbformat": 4,
 "nbformat_minor": 5
}
