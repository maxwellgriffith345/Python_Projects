{
 "cells": [
  {
   "cell_type": "code",
   "execution_count": 2,
   "id": "2b9c602e",
   "metadata": {},
   "outputs": [],
   "source": [
    "import numpy as np\n",
    "import pandas as pd\n",
    "from pandas import Series, DataFrame\n",
    "import requests, bs4, csv\n",
    "import os\n",
    "import f1scraper1 as scrape\n",
    "import time\n",
    "import lxml"
   ]
  },
  {
   "cell_type": "code",
   "execution_count": 3,
   "id": "e5c4b341",
   "metadata": {},
   "outputs": [],
   "source": [
    "#parsing web content html\n",
    "url = 'https://www.formula1.com/en/results.html/2021/races/1067/monaco.html'"
   ]
  },
  {
   "cell_type": "code",
   "execution_count": 9,
   "id": "eb949600",
   "metadata": {
    "scrolled": true
   },
   "outputs": [
    {
     "ename": "ImportError",
     "evalue": "html5lib not found, please install it",
     "output_type": "error",
     "traceback": [
      "\u001b[0;31m---------------------------------------------------------------------------\u001b[0m",
      "\u001b[0;31mImportError\u001b[0m                               Traceback (most recent call last)",
      "\u001b[0;32m<ipython-input-9-51440c3b0a83>\u001b[0m in \u001b[0;36m<module>\u001b[0;34m\u001b[0m\n\u001b[0;32m----> 1\u001b[0;31m \u001b[0mtables\u001b[0m \u001b[0;34m=\u001b[0m \u001b[0mpd\u001b[0m\u001b[0;34m.\u001b[0m\u001b[0mread_html\u001b[0m\u001b[0;34m(\u001b[0m\u001b[0murl\u001b[0m\u001b[0;34m,\u001b[0m \u001b[0mflavor\u001b[0m \u001b[0;34m=\u001b[0m \u001b[0;34m'bs4'\u001b[0m\u001b[0;34m)\u001b[0m\u001b[0;34m\u001b[0m\u001b[0;34m\u001b[0m\u001b[0m\n\u001b[0m\u001b[1;32m      2\u001b[0m \u001b[0mmonaco\u001b[0m\u001b[0;34m=\u001b[0m\u001b[0mtables\u001b[0m\u001b[0;34m[\u001b[0m\u001b[0;36m0\u001b[0m\u001b[0;34m]\u001b[0m\u001b[0;34m\u001b[0m\u001b[0;34m\u001b[0m\u001b[0m\n\u001b[1;32m      3\u001b[0m \u001b[0mmonaco\u001b[0m\u001b[0;34m\u001b[0m\u001b[0;34m\u001b[0m\u001b[0m\n",
      "\u001b[0;32m/usr/local/lib/python3.8/site-packages/pandas/util/_decorators.py\u001b[0m in \u001b[0;36mwrapper\u001b[0;34m(*args, **kwargs)\u001b[0m\n\u001b[1;32m    309\u001b[0m                     \u001b[0mstacklevel\u001b[0m\u001b[0;34m=\u001b[0m\u001b[0mstacklevel\u001b[0m\u001b[0;34m,\u001b[0m\u001b[0;34m\u001b[0m\u001b[0;34m\u001b[0m\u001b[0m\n\u001b[1;32m    310\u001b[0m                 )\n\u001b[0;32m--> 311\u001b[0;31m             \u001b[0;32mreturn\u001b[0m \u001b[0mfunc\u001b[0m\u001b[0;34m(\u001b[0m\u001b[0;34m*\u001b[0m\u001b[0margs\u001b[0m\u001b[0;34m,\u001b[0m \u001b[0;34m**\u001b[0m\u001b[0mkwargs\u001b[0m\u001b[0;34m)\u001b[0m\u001b[0;34m\u001b[0m\u001b[0;34m\u001b[0m\u001b[0m\n\u001b[0m\u001b[1;32m    312\u001b[0m \u001b[0;34m\u001b[0m\u001b[0m\n\u001b[1;32m    313\u001b[0m         \u001b[0;32mreturn\u001b[0m \u001b[0mwrapper\u001b[0m\u001b[0;34m\u001b[0m\u001b[0;34m\u001b[0m\u001b[0m\n",
      "\u001b[0;32m/usr/local/lib/python3.8/site-packages/pandas/io/html.py\u001b[0m in \u001b[0;36mread_html\u001b[0;34m(io, match, flavor, header, index_col, skiprows, attrs, parse_dates, thousands, encoding, decimal, converters, na_values, keep_default_na, displayed_only)\u001b[0m\n\u001b[1;32m   1096\u001b[0m     \u001b[0mio\u001b[0m \u001b[0;34m=\u001b[0m \u001b[0mstringify_path\u001b[0m\u001b[0;34m(\u001b[0m\u001b[0mio\u001b[0m\u001b[0;34m)\u001b[0m\u001b[0;34m\u001b[0m\u001b[0;34m\u001b[0m\u001b[0m\n\u001b[1;32m   1097\u001b[0m \u001b[0;34m\u001b[0m\u001b[0m\n\u001b[0;32m-> 1098\u001b[0;31m     return _parse(\n\u001b[0m\u001b[1;32m   1099\u001b[0m         \u001b[0mflavor\u001b[0m\u001b[0;34m=\u001b[0m\u001b[0mflavor\u001b[0m\u001b[0;34m,\u001b[0m\u001b[0;34m\u001b[0m\u001b[0;34m\u001b[0m\u001b[0m\n\u001b[1;32m   1100\u001b[0m         \u001b[0mio\u001b[0m\u001b[0;34m=\u001b[0m\u001b[0mio\u001b[0m\u001b[0;34m,\u001b[0m\u001b[0;34m\u001b[0m\u001b[0;34m\u001b[0m\u001b[0m\n",
      "\u001b[0;32m/usr/local/lib/python3.8/site-packages/pandas/io/html.py\u001b[0m in \u001b[0;36m_parse\u001b[0;34m(flavor, io, match, attrs, encoding, displayed_only, **kwargs)\u001b[0m\n\u001b[1;32m    900\u001b[0m     \u001b[0mretained\u001b[0m \u001b[0;34m=\u001b[0m \u001b[0;32mNone\u001b[0m\u001b[0;34m\u001b[0m\u001b[0;34m\u001b[0m\u001b[0m\n\u001b[1;32m    901\u001b[0m     \u001b[0;32mfor\u001b[0m \u001b[0mflav\u001b[0m \u001b[0;32min\u001b[0m \u001b[0mflavor\u001b[0m\u001b[0;34m:\u001b[0m\u001b[0;34m\u001b[0m\u001b[0;34m\u001b[0m\u001b[0m\n\u001b[0;32m--> 902\u001b[0;31m         \u001b[0mparser\u001b[0m \u001b[0;34m=\u001b[0m \u001b[0m_parser_dispatch\u001b[0m\u001b[0;34m(\u001b[0m\u001b[0mflav\u001b[0m\u001b[0;34m)\u001b[0m\u001b[0;34m\u001b[0m\u001b[0;34m\u001b[0m\u001b[0m\n\u001b[0m\u001b[1;32m    903\u001b[0m         \u001b[0mp\u001b[0m \u001b[0;34m=\u001b[0m \u001b[0mparser\u001b[0m\u001b[0;34m(\u001b[0m\u001b[0mio\u001b[0m\u001b[0;34m,\u001b[0m \u001b[0mcompiled_match\u001b[0m\u001b[0;34m,\u001b[0m \u001b[0mattrs\u001b[0m\u001b[0;34m,\u001b[0m \u001b[0mencoding\u001b[0m\u001b[0;34m,\u001b[0m \u001b[0mdisplayed_only\u001b[0m\u001b[0;34m)\u001b[0m\u001b[0;34m\u001b[0m\u001b[0;34m\u001b[0m\u001b[0m\n\u001b[1;32m    904\u001b[0m \u001b[0;34m\u001b[0m\u001b[0m\n",
      "\u001b[0;32m/usr/local/lib/python3.8/site-packages/pandas/io/html.py\u001b[0m in \u001b[0;36m_parser_dispatch\u001b[0;34m(flavor)\u001b[0m\n\u001b[1;32m    849\u001b[0m     \u001b[0;32mif\u001b[0m \u001b[0mflavor\u001b[0m \u001b[0;32min\u001b[0m \u001b[0;34m(\u001b[0m\u001b[0;34m\"bs4\"\u001b[0m\u001b[0;34m,\u001b[0m \u001b[0;34m\"html5lib\"\u001b[0m\u001b[0;34m)\u001b[0m\u001b[0;34m:\u001b[0m\u001b[0;34m\u001b[0m\u001b[0;34m\u001b[0m\u001b[0m\n\u001b[1;32m    850\u001b[0m         \u001b[0;32mif\u001b[0m \u001b[0;32mnot\u001b[0m \u001b[0m_HAS_HTML5LIB\u001b[0m\u001b[0;34m:\u001b[0m\u001b[0;34m\u001b[0m\u001b[0;34m\u001b[0m\u001b[0m\n\u001b[0;32m--> 851\u001b[0;31m             \u001b[0;32mraise\u001b[0m \u001b[0mImportError\u001b[0m\u001b[0;34m(\u001b[0m\u001b[0;34m\"html5lib not found, please install it\"\u001b[0m\u001b[0;34m)\u001b[0m\u001b[0;34m\u001b[0m\u001b[0;34m\u001b[0m\u001b[0m\n\u001b[0m\u001b[1;32m    852\u001b[0m         \u001b[0;32mif\u001b[0m \u001b[0;32mnot\u001b[0m \u001b[0m_HAS_BS4\u001b[0m\u001b[0;34m:\u001b[0m\u001b[0;34m\u001b[0m\u001b[0;34m\u001b[0m\u001b[0m\n\u001b[1;32m    853\u001b[0m             \u001b[0;32mraise\u001b[0m \u001b[0mImportError\u001b[0m\u001b[0;34m(\u001b[0m\u001b[0;34m\"BeautifulSoup4 (bs4) not found, please install it\"\u001b[0m\u001b[0;34m)\u001b[0m\u001b[0;34m\u001b[0m\u001b[0;34m\u001b[0m\u001b[0m\n",
      "\u001b[0;31mImportError\u001b[0m: html5lib not found, please install it"
     ]
    }
   ],
   "source": [
    "tables = pd.read_html(url)\n",
    "monaco=tables[0]\n",
    "monaco"
   ]
  },
  {
   "cell_type": "code",
   "execution_count": 8,
   "id": "b8134597",
   "metadata": {},
   "outputs": [
    {
     "data": {
      "text/html": [
       "<div>\n",
       "<style scoped>\n",
       "    .dataframe tbody tr th:only-of-type {\n",
       "        vertical-align: middle;\n",
       "    }\n",
       "\n",
       "    .dataframe tbody tr th {\n",
       "        vertical-align: top;\n",
       "    }\n",
       "\n",
       "    .dataframe thead th {\n",
       "        text-align: right;\n",
       "    }\n",
       "</style>\n",
       "<table border=\"1\" class=\"dataframe\">\n",
       "  <thead>\n",
       "    <tr style=\"text-align: right;\">\n",
       "      <th></th>\n",
       "      <th>Unnamed: 0</th>\n",
       "      <th>1</th>\n",
       "      <th>33</th>\n",
       "      <th>Max  Verstappen  VER</th>\n",
       "      <th>Red Bull Racing Honda</th>\n",
       "      <th>78</th>\n",
       "      <th>1:38:56.820</th>\n",
       "      <th>25</th>\n",
       "      <th>Unnamed: 8</th>\n",
       "    </tr>\n",
       "  </thead>\n",
       "  <tbody>\n",
       "    <tr>\n",
       "      <th>0</th>\n",
       "      <td>NaN</td>\n",
       "      <td>2</td>\n",
       "      <td>55</td>\n",
       "      <td>Carlos  Sainz  SAI</td>\n",
       "      <td>Ferrari</td>\n",
       "      <td>78</td>\n",
       "      <td>+8.968s</td>\n",
       "      <td>18</td>\n",
       "      <td>NaN</td>\n",
       "    </tr>\n",
       "    <tr>\n",
       "      <th>1</th>\n",
       "      <td>NaN</td>\n",
       "      <td>3</td>\n",
       "      <td>4</td>\n",
       "      <td>Lando  Norris  NOR</td>\n",
       "      <td>McLaren Mercedes</td>\n",
       "      <td>78</td>\n",
       "      <td>+19.427s</td>\n",
       "      <td>15</td>\n",
       "      <td>NaN</td>\n",
       "    </tr>\n",
       "    <tr>\n",
       "      <th>2</th>\n",
       "      <td>NaN</td>\n",
       "      <td>4</td>\n",
       "      <td>11</td>\n",
       "      <td>Sergio  Perez  PER</td>\n",
       "      <td>Red Bull Racing Honda</td>\n",
       "      <td>78</td>\n",
       "      <td>+20.490s</td>\n",
       "      <td>12</td>\n",
       "      <td>NaN</td>\n",
       "    </tr>\n",
       "    <tr>\n",
       "      <th>3</th>\n",
       "      <td>NaN</td>\n",
       "      <td>5</td>\n",
       "      <td>5</td>\n",
       "      <td>Sebastian  Vettel  VET</td>\n",
       "      <td>Aston Martin Mercedes</td>\n",
       "      <td>78</td>\n",
       "      <td>+52.591s</td>\n",
       "      <td>10</td>\n",
       "      <td>NaN</td>\n",
       "    </tr>\n",
       "    <tr>\n",
       "      <th>4</th>\n",
       "      <td>NaN</td>\n",
       "      <td>6</td>\n",
       "      <td>10</td>\n",
       "      <td>Pierre  Gasly  GAS</td>\n",
       "      <td>AlphaTauri Honda</td>\n",
       "      <td>78</td>\n",
       "      <td>+53.896s</td>\n",
       "      <td>8</td>\n",
       "      <td>NaN</td>\n",
       "    </tr>\n",
       "    <tr>\n",
       "      <th>5</th>\n",
       "      <td>NaN</td>\n",
       "      <td>7</td>\n",
       "      <td>44</td>\n",
       "      <td>Lewis  Hamilton  HAM</td>\n",
       "      <td>Mercedes</td>\n",
       "      <td>78</td>\n",
       "      <td>+68.231s</td>\n",
       "      <td>7</td>\n",
       "      <td>NaN</td>\n",
       "    </tr>\n",
       "    <tr>\n",
       "      <th>6</th>\n",
       "      <td>NaN</td>\n",
       "      <td>9</td>\n",
       "      <td>31</td>\n",
       "      <td>Esteban  Ocon  OCO</td>\n",
       "      <td>Alpine Renault</td>\n",
       "      <td>77</td>\n",
       "      <td>+1 lap</td>\n",
       "      <td>2</td>\n",
       "      <td>NaN</td>\n",
       "    </tr>\n",
       "    <tr>\n",
       "      <th>7</th>\n",
       "      <td>NaN</td>\n",
       "      <td>10</td>\n",
       "      <td>99</td>\n",
       "      <td>Antonio  Giovinazzi  GIO</td>\n",
       "      <td>Alfa Romeo Racing Ferrari</td>\n",
       "      <td>77</td>\n",
       "      <td>+1 lap</td>\n",
       "      <td>1</td>\n",
       "      <td>NaN</td>\n",
       "    </tr>\n",
       "    <tr>\n",
       "      <th>8</th>\n",
       "      <td>NaN</td>\n",
       "      <td>11</td>\n",
       "      <td>7</td>\n",
       "      <td>Kimi  Räikkönen  RAI</td>\n",
       "      <td>Alfa Romeo Racing Ferrari</td>\n",
       "      <td>77</td>\n",
       "      <td>+1 lap</td>\n",
       "      <td>0</td>\n",
       "      <td>NaN</td>\n",
       "    </tr>\n",
       "    <tr>\n",
       "      <th>9</th>\n",
       "      <td>NaN</td>\n",
       "      <td>12</td>\n",
       "      <td>3</td>\n",
       "      <td>Daniel  Ricciardo  RIC</td>\n",
       "      <td>McLaren Mercedes</td>\n",
       "      <td>77</td>\n",
       "      <td>+1 lap</td>\n",
       "      <td>0</td>\n",
       "      <td>NaN</td>\n",
       "    </tr>\n",
       "    <tr>\n",
       "      <th>10</th>\n",
       "      <td>NaN</td>\n",
       "      <td>13</td>\n",
       "      <td>14</td>\n",
       "      <td>Fernando  Alonso  ALO</td>\n",
       "      <td>Alpine Renault</td>\n",
       "      <td>77</td>\n",
       "      <td>+1 lap</td>\n",
       "      <td>0</td>\n",
       "      <td>NaN</td>\n",
       "    </tr>\n",
       "    <tr>\n",
       "      <th>11</th>\n",
       "      <td>NaN</td>\n",
       "      <td>14</td>\n",
       "      <td>63</td>\n",
       "      <td>George  Russell  RUS</td>\n",
       "      <td>Williams Mercedes</td>\n",
       "      <td>77</td>\n",
       "      <td>+1 lap</td>\n",
       "      <td>0</td>\n",
       "      <td>NaN</td>\n",
       "    </tr>\n",
       "    <tr>\n",
       "      <th>12</th>\n",
       "      <td>NaN</td>\n",
       "      <td>15</td>\n",
       "      <td>6</td>\n",
       "      <td>Nicholas  Latifi  LAT</td>\n",
       "      <td>Williams Mercedes</td>\n",
       "      <td>77</td>\n",
       "      <td>+1 lap</td>\n",
       "      <td>0</td>\n",
       "      <td>NaN</td>\n",
       "    </tr>\n",
       "    <tr>\n",
       "      <th>13</th>\n",
       "      <td>NaN</td>\n",
       "      <td>16</td>\n",
       "      <td>22</td>\n",
       "      <td>Yuki  Tsunoda  TSU</td>\n",
       "      <td>AlphaTauri Honda</td>\n",
       "      <td>77</td>\n",
       "      <td>+1 lap</td>\n",
       "      <td>0</td>\n",
       "      <td>NaN</td>\n",
       "    </tr>\n",
       "    <tr>\n",
       "      <th>14</th>\n",
       "      <td>NaN</td>\n",
       "      <td>17</td>\n",
       "      <td>9</td>\n",
       "      <td>Nikita  Mazepin  MAZ</td>\n",
       "      <td>Haas Ferrari</td>\n",
       "      <td>75</td>\n",
       "      <td>+3 laps</td>\n",
       "      <td>0</td>\n",
       "      <td>NaN</td>\n",
       "    </tr>\n",
       "    <tr>\n",
       "      <th>15</th>\n",
       "      <td>NaN</td>\n",
       "      <td>18</td>\n",
       "      <td>47</td>\n",
       "      <td>Mick  Schumacher  MSC</td>\n",
       "      <td>Haas Ferrari</td>\n",
       "      <td>75</td>\n",
       "      <td>+3 laps</td>\n",
       "      <td>0</td>\n",
       "      <td>NaN</td>\n",
       "    </tr>\n",
       "    <tr>\n",
       "      <th>16</th>\n",
       "      <td>NaN</td>\n",
       "      <td>NC</td>\n",
       "      <td>77</td>\n",
       "      <td>Valtteri  Bottas  BOT</td>\n",
       "      <td>Mercedes</td>\n",
       "      <td>29</td>\n",
       "      <td>DNF</td>\n",
       "      <td>0</td>\n",
       "      <td>NaN</td>\n",
       "    </tr>\n",
       "    <tr>\n",
       "      <th>17</th>\n",
       "      <td>NaN</td>\n",
       "      <td>NC</td>\n",
       "      <td>16</td>\n",
       "      <td>Charles  Leclerc  LEC</td>\n",
       "      <td>Ferrari</td>\n",
       "      <td>0</td>\n",
       "      <td>DNS</td>\n",
       "      <td>0</td>\n",
       "      <td>NaN</td>\n",
       "    </tr>\n",
       "  </tbody>\n",
       "</table>\n",
       "</div>"
      ],
      "text/plain": [
       "    Unnamed: 0   1  33      Max  Verstappen  VER      Red Bull Racing Honda  \\\n",
       "0          NaN   2  55        Carlos  Sainz  SAI                    Ferrari   \n",
       "1          NaN   3   4        Lando  Norris  NOR           McLaren Mercedes   \n",
       "2          NaN   4  11        Sergio  Perez  PER      Red Bull Racing Honda   \n",
       "3          NaN   5   5    Sebastian  Vettel  VET      Aston Martin Mercedes   \n",
       "4          NaN   6  10        Pierre  Gasly  GAS           AlphaTauri Honda   \n",
       "5          NaN   7  44      Lewis  Hamilton  HAM                   Mercedes   \n",
       "6          NaN   9  31        Esteban  Ocon  OCO             Alpine Renault   \n",
       "7          NaN  10  99  Antonio  Giovinazzi  GIO  Alfa Romeo Racing Ferrari   \n",
       "8          NaN  11   7      Kimi  Räikkönen  RAI  Alfa Romeo Racing Ferrari   \n",
       "9          NaN  12   3    Daniel  Ricciardo  RIC           McLaren Mercedes   \n",
       "10         NaN  13  14     Fernando  Alonso  ALO             Alpine Renault   \n",
       "11         NaN  14  63      George  Russell  RUS          Williams Mercedes   \n",
       "12         NaN  15   6     Nicholas  Latifi  LAT          Williams Mercedes   \n",
       "13         NaN  16  22        Yuki  Tsunoda  TSU           AlphaTauri Honda   \n",
       "14         NaN  17   9      Nikita  Mazepin  MAZ               Haas Ferrari   \n",
       "15         NaN  18  47     Mick  Schumacher  MSC               Haas Ferrari   \n",
       "16         NaN  NC  77     Valtteri  Bottas  BOT                   Mercedes   \n",
       "17         NaN  NC  16     Charles  Leclerc  LEC                    Ferrari   \n",
       "\n",
       "    78 1:38:56.820  25  Unnamed: 8  \n",
       "0   78     +8.968s  18         NaN  \n",
       "1   78    +19.427s  15         NaN  \n",
       "2   78    +20.490s  12         NaN  \n",
       "3   78    +52.591s  10         NaN  \n",
       "4   78    +53.896s   8         NaN  \n",
       "5   78    +68.231s   7         NaN  \n",
       "6   77      +1 lap   2         NaN  \n",
       "7   77      +1 lap   1         NaN  \n",
       "8   77      +1 lap   0         NaN  \n",
       "9   77      +1 lap   0         NaN  \n",
       "10  77      +1 lap   0         NaN  \n",
       "11  77      +1 lap   0         NaN  \n",
       "12  77      +1 lap   0         NaN  \n",
       "13  77      +1 lap   0         NaN  \n",
       "14  75     +3 laps   0         NaN  \n",
       "15  75     +3 laps   0         NaN  \n",
       "16  29         DNF   0         NaN  \n",
       "17   0         DNS   0         NaN  "
      ]
     },
     "execution_count": 8,
     "metadata": {},
     "output_type": "execute_result"
    }
   ],
   "source": [
    "tables = pd.read_html(url,skiprows = [0,8])\n",
    "monaco=tables[0]\n",
    "monaco"
   ]
  },
  {
   "cell_type": "code",
   "execution_count": null,
   "id": "e1cc168f",
   "metadata": {},
   "outputs": [],
   "source": [
    "stripurl=url.lstrip('https://www.formula1.com/en/results.html/').rstrip('.html')"
   ]
  },
  {
   "cell_type": "code",
   "execution_count": null,
   "id": "ad176621",
   "metadata": {},
   "outputs": [],
   "source": [
    "stripurl"
   ]
  },
  {
   "cell_type": "code",
   "execution_count": null,
   "id": "af26bcc2",
   "metadata": {},
   "outputs": [],
   "source": [
    "spliturl = stripurl.split('/')\n",
    "spliturl"
   ]
  },
  {
   "cell_type": "code",
   "execution_count": null,
   "id": "6a9d27c7",
   "metadata": {},
   "outputs": [],
   "source": [
    "year_race = (spliturl[0], spliturl[3])\n",
    "year_race"
   ]
  },
  {
   "cell_type": "code",
   "execution_count": null,
   "id": "a0d637b7",
   "metadata": {},
   "outputs": [],
   "source": [
    "#issue years with race in same location 2020 austria and styria have the same url country"
   ]
  },
  {
   "cell_type": "code",
   "execution_count": null,
   "id": "c5d6f9c1",
   "metadata": {},
   "outputs": [],
   "source": [
    "monaco['year']= '2021'\n",
    "monaco\n"
   ]
  },
  {
   "cell_type": "code",
   "execution_count": null,
   "id": "aec4306a",
   "metadata": {},
   "outputs": [],
   "source": [
    "monaco.drop(['year'], axis =1, inplace = True)\n",
    "monaco"
   ]
  },
  {
   "cell_type": "code",
   "execution_count": null,
   "id": "cd4aa6e4",
   "metadata": {},
   "outputs": [],
   "source": [
    "#adding year race as a tuple?\n",
    "monaco[['year', 'race']]=year_race"
   ]
  },
  {
   "cell_type": "code",
   "execution_count": null,
   "id": "671de0e4",
   "metadata": {},
   "outputs": [],
   "source": [
    "monaco"
   ]
  },
  {
   "cell_type": "code",
   "execution_count": null,
   "id": "f90343b9",
   "metadata": {},
   "outputs": [],
   "source": [
    "monaco.drop(['Unnamed: 0','Unnamed: 8'], axis =1, inplace = True)\n",
    "monaco"
   ]
  },
  {
   "cell_type": "code",
   "execution_count": null,
   "id": "da3e7229",
   "metadata": {
    "scrolled": true
   },
   "outputs": [],
   "source": [
    "monaco"
   ]
  },
  {
   "cell_type": "code",
   "execution_count": null,
   "id": "8d2e6cf6",
   "metadata": {},
   "outputs": [],
   "source": [
    "main_url = 'https://www.formula1.com/en/results.html'"
   ]
  },
  {
   "cell_type": "code",
   "execution_count": null,
   "id": "7fa3a282",
   "metadata": {},
   "outputs": [],
   "source": [
    "website = requests.get(main_url)\n",
    "website.raise_for_status()\n",
    "soup = bs4.BeautifulSoup(website.text, 'html.parser')"
   ]
  },
  {
   "cell_type": "code",
   "execution_count": null,
   "id": "169d3da0",
   "metadata": {},
   "outputs": [],
   "source": [
    "race_soup = soup.select('div.resultsarchive-filter-wrap')[2]"
   ]
  },
  {
   "cell_type": "code",
   "execution_count": null,
   "id": "ee28d155",
   "metadata": {},
   "outputs": [],
   "source": [
    "race_list = []\n",
    "for span in race_soup.find_all('span'):\n",
    "    race_list.append(span.get_text())"
   ]
  },
  {
   "cell_type": "code",
   "execution_count": null,
   "id": "a3efb988",
   "metadata": {},
   "outputs": [],
   "source": [
    "race_list"
   ]
  },
  {
   "cell_type": "code",
   "execution_count": null,
   "id": "b41d4c02",
   "metadata": {},
   "outputs": [],
   "source": [
    "columns_name = monaco.columns\n",
    "columns_name"
   ]
  },
  {
   "cell_type": "code",
   "execution_count": null,
   "id": "1953ac58",
   "metadata": {},
   "outputs": [],
   "source": [
    "main_df = pd.DataFrame(columns = columns_name)"
   ]
  },
  {
   "cell_type": "code",
   "execution_count": null,
   "id": "b15dd1a7",
   "metadata": {},
   "outputs": [],
   "source": [
    "main_df = main_df.append(monaco)\n",
    "main_df"
   ]
  },
  {
   "cell_type": "code",
   "execution_count": null,
   "id": "60db8ccb",
   "metadata": {},
   "outputs": [],
   "source": [
    "main_df.to_csv('f1.csv', index =False)"
   ]
  },
  {
   "cell_type": "code",
   "execution_count": null,
   "id": "fa3f48a9",
   "metadata": {},
   "outputs": [],
   "source": [
    "table = pd.read_html('https://www.formula1.com/en/results.html/2020/races.html')\n",
    "df = table[0]\n",
    "df"
   ]
  },
  {
   "cell_type": "code",
   "execution_count": null,
   "id": "17034dc5",
   "metadata": {},
   "outputs": [],
   "source": [
    "#function to pull date and track/location\n",
    "#span class = \"full-date\"\n",
    "#span class = \"circuit-info\"\n",
    "#soup.select('span.full-date').get_text()"
   ]
  },
  {
   "cell_type": "code",
   "execution_count": 4,
   "id": "74237cc2",
   "metadata": {},
   "outputs": [],
   "source": [
    "austria19 = scrape.get_soup('https://www.formula1.com/en/results.html/2020/races/1045/austria/race-result.html')"
   ]
  },
  {
   "cell_type": "code",
   "execution_count": null,
   "id": "0595d46f",
   "metadata": {},
   "outputs": [],
   "source": [
    "type(austria19)"
   ]
  },
  {
   "cell_type": "code",
   "execution_count": null,
   "id": "f02c4b1e",
   "metadata": {},
   "outputs": [],
   "source": [
    "date = austria19.find(class_ = 'full-date').get_text()\n",
    "date"
   ]
  },
  {
   "cell_type": "code",
   "execution_count": null,
   "id": "cbca9252",
   "metadata": {},
   "outputs": [],
   "source": [
    "dt=date.get_text()\n",
    "dt"
   ]
  },
  {
   "cell_type": "code",
   "execution_count": null,
   "id": "fcf3e8a9",
   "metadata": {},
   "outputs": [],
   "source": [
    "info = austria19.find(class_ = 'circuit-info').get_text()\n",
    "info"
   ]
  },
  {
   "cell_type": "code",
   "execution_count": null,
   "id": "bef9adff",
   "metadata": {},
   "outputs": [],
   "source": [
    "full_date = austria19.find_all(\"p\", class_ = \"date\")\n",
    "full_date"
   ]
  },
  {
   "cell_type": "code",
   "execution_count": null,
   "id": "c3cf38d8",
   "metadata": {},
   "outputs": [],
   "source": [
    "type(full_date)"
   ]
  },
  {
   "cell_type": "code",
   "execution_count": null,
   "id": "4fdf8c2e",
   "metadata": {},
   "outputs": [],
   "source": [
    "austria19.select(\".date\")"
   ]
  },
  {
   "cell_type": "code",
   "execution_count": null,
   "id": "9d2e394f",
   "metadata": {},
   "outputs": [],
   "source": [
    "#find all span under 'p' class_ = 'date'"
   ]
  },
  {
   "cell_type": "code",
   "execution_count": null,
   "id": "bf65a110",
   "metadata": {},
   "outputs": [],
   "source": [
    "spans = austria19.select(\".date > span\")\n",
    "spans"
   ]
  },
  {
   "cell_type": "code",
   "execution_count": null,
   "id": "b0e41e39",
   "metadata": {},
   "outputs": [],
   "source": [
    "def getdateinfo(spans):\n",
    "    date = spans[1].get_text()\n",
    "    info = spans[2].get_text()\n",
    "    return (date,info)"
   ]
  },
  {
   "cell_type": "code",
   "execution_count": null,
   "id": "81b67254",
   "metadata": {},
   "outputs": [],
   "source": [
    "date_info = getdateinfo(spans)\n",
    "date_info"
   ]
  },
  {
   "cell_type": "code",
   "execution_count": null,
   "id": "a6a6b115",
   "metadata": {},
   "outputs": [],
   "source": [
    "dat_in = scrape.get_date_info(austria19)\n",
    "dat_in"
   ]
  },
  {
   "cell_type": "code",
   "execution_count": null,
   "id": "0a0e1672",
   "metadata": {},
   "outputs": [],
   "source": [
    "#working on get race names\n",
    "#div.resultsarchive-filter-wrap:nth-child(3) > ul:nth-child(1)\n",
    "race_spances = austria19.find_all(\"span\",class_ = \"resultsarchive-filter-item-link FilterTrigger selected\")"
   ]
  },
  {
   "cell_type": "code",
   "execution_count": null,
   "id": "5b47cb94",
   "metadata": {},
   "outputs": [],
   "source": [
    "race_spances"
   ]
  },
  {
   "cell_type": "code",
   "execution_count": null,
   "id": "c9539c8b",
   "metadata": {},
   "outputs": [],
   "source": [
    "race_name = austria19.find_all(class_ = \"resultsarchive-filter-item-link FilterTrigger selected\")[2].get_text().strip()\n",
    "race_name"
   ]
  },
  {
   "cell_type": "code",
   "execution_count": 5,
   "id": "f5eb50cb",
   "metadata": {},
   "outputs": [],
   "source": [
    "styria_soup = scrape.get_soup('https://www.formula1.com/en/results.html/2020/races/1046/austria/race-result.html')"
   ]
  },
  {
   "cell_type": "code",
   "execution_count": 6,
   "id": "cbeb78b9",
   "metadata": {},
   "outputs": [
    {
     "data": {
      "text/plain": [
       "'Styria'"
      ]
     },
     "execution_count": 6,
     "metadata": {},
     "output_type": "execute_result"
    }
   ],
   "source": [
    "styria_name = scrape.get_race_name(styria_soup)\n",
    "styria_name"
   ]
  },
  {
   "cell_type": "code",
   "execution_count": 1,
   "id": "0b617937",
   "metadata": {},
   "outputs": [
    {
     "name": "stdout",
     "output_type": "stream",
     "text": [
      "0\n",
      "1\n",
      "2\n"
     ]
    }
   ],
   "source": [
    "for x in range(3):\n",
    "    print(x)"
   ]
  },
  {
   "cell_type": "code",
   "execution_count": null,
   "id": "428b5fe4",
   "metadata": {},
   "outputs": [],
   "source": []
  }
 ],
 "metadata": {
  "kernelspec": {
   "display_name": "Python 3",
   "language": "python",
   "name": "python3"
  },
  "language_info": {
   "codemirror_mode": {
    "name": "ipython",
    "version": 3
   },
   "file_extension": ".py",
   "mimetype": "text/x-python",
   "name": "python",
   "nbconvert_exporter": "python",
   "pygments_lexer": "ipython3",
   "version": "3.8.5"
  }
 },
 "nbformat": 4,
 "nbformat_minor": 5
}
