{
 "cells": [
  {
   "cell_type": "code",
   "execution_count": 1,
   "id": "2b9c602e",
   "metadata": {},
   "outputs": [],
   "source": [
    "import numpy as np\n",
    "import pandas as pd\n",
    "from pandas import Series, DataFrame\n",
    "import requests, bs4, csv\n",
    "import os\n",
    "import f1scraper1 as scrape\n",
    "import time\n",
    "import lxml"
   ]
  },
  {
   "cell_type": "code",
   "execution_count": null,
   "id": "e5c4b341",
   "metadata": {},
   "outputs": [],
   "source": [
    "#parsing web content html\n",
    "url = 'https://www.formula1.com/en/results.html/2021/races/1067/monaco.html'"
   ]
  },
  {
   "cell_type": "code",
   "execution_count": null,
   "id": "eb949600",
   "metadata": {
    "scrolled": true
   },
   "outputs": [],
   "source": [
    "tables = pd.read_html(url)\n",
    "monaco=tables[0]\n",
    "monaco"
   ]
  },
  {
   "cell_type": "code",
   "execution_count": null,
   "id": "b8134597",
   "metadata": {},
   "outputs": [],
   "source": [
    "tables = pd.read_html(url,skiprows = [0,8])\n",
    "monaco=tables[0]\n",
    "monaco"
   ]
  },
  {
   "cell_type": "code",
   "execution_count": null,
   "id": "e1cc168f",
   "metadata": {},
   "outputs": [],
   "source": [
    "stripurl=url.lstrip('https://www.formula1.com/en/results.html/').rstrip('.html')"
   ]
  },
  {
   "cell_type": "code",
   "execution_count": null,
   "id": "ad176621",
   "metadata": {},
   "outputs": [],
   "source": [
    "stripurl"
   ]
  },
  {
   "cell_type": "code",
   "execution_count": null,
   "id": "af26bcc2",
   "metadata": {},
   "outputs": [],
   "source": [
    "spliturl = stripurl.split('/')\n",
    "spliturl"
   ]
  },
  {
   "cell_type": "code",
   "execution_count": null,
   "id": "6a9d27c7",
   "metadata": {},
   "outputs": [],
   "source": [
    "year_race = (spliturl[0], spliturl[3])\n",
    "year_race"
   ]
  },
  {
   "cell_type": "code",
   "execution_count": null,
   "id": "a0d637b7",
   "metadata": {},
   "outputs": [],
   "source": [
    "#issue years with race in same location 2020 austria and styria have the same url country"
   ]
  },
  {
   "cell_type": "code",
   "execution_count": null,
   "id": "c5d6f9c1",
   "metadata": {},
   "outputs": [],
   "source": [
    "monaco['year']= '2021'\n",
    "monaco\n"
   ]
  },
  {
   "cell_type": "code",
   "execution_count": null,
   "id": "aec4306a",
   "metadata": {},
   "outputs": [],
   "source": [
    "monaco.drop(['year'], axis =1, inplace = True)\n",
    "monaco"
   ]
  },
  {
   "cell_type": "code",
   "execution_count": null,
   "id": "cd4aa6e4",
   "metadata": {},
   "outputs": [],
   "source": [
    "#adding year race as a tuple?\n",
    "monaco[['year', 'race']]=year_race"
   ]
  },
  {
   "cell_type": "code",
   "execution_count": null,
   "id": "671de0e4",
   "metadata": {},
   "outputs": [],
   "source": [
    "monaco"
   ]
  },
  {
   "cell_type": "code",
   "execution_count": null,
   "id": "f90343b9",
   "metadata": {},
   "outputs": [],
   "source": [
    "monaco.drop(['Unnamed: 0','Unnamed: 8'], axis =1, inplace = True)\n",
    "monaco"
   ]
  },
  {
   "cell_type": "code",
   "execution_count": null,
   "id": "da3e7229",
   "metadata": {
    "scrolled": true
   },
   "outputs": [],
   "source": [
    "monaco"
   ]
  },
  {
   "cell_type": "code",
   "execution_count": null,
   "id": "8d2e6cf6",
   "metadata": {},
   "outputs": [],
   "source": [
    "main_url = 'https://www.formula1.com/en/results.html'"
   ]
  },
  {
   "cell_type": "code",
   "execution_count": null,
   "id": "7fa3a282",
   "metadata": {},
   "outputs": [],
   "source": [
    "website = requests.get(main_url)\n",
    "website.raise_for_status()\n",
    "soup = bs4.BeautifulSoup(website.text, 'html.parser')"
   ]
  },
  {
   "cell_type": "code",
   "execution_count": null,
   "id": "169d3da0",
   "metadata": {},
   "outputs": [],
   "source": [
    "race_soup = soup.select('div.resultsarchive-filter-wrap')[2]"
   ]
  },
  {
   "cell_type": "code",
   "execution_count": null,
   "id": "ee28d155",
   "metadata": {},
   "outputs": [],
   "source": [
    "race_list = []\n",
    "for span in race_soup.find_all('span'):\n",
    "    race_list.append(span.get_text())"
   ]
  },
  {
   "cell_type": "code",
   "execution_count": null,
   "id": "a3efb988",
   "metadata": {},
   "outputs": [],
   "source": [
    "race_list"
   ]
  },
  {
   "cell_type": "code",
   "execution_count": null,
   "id": "b41d4c02",
   "metadata": {},
   "outputs": [],
   "source": [
    "columns_name = monaco.columns\n",
    "columns_name"
   ]
  },
  {
   "cell_type": "code",
   "execution_count": null,
   "id": "1953ac58",
   "metadata": {},
   "outputs": [],
   "source": [
    "main_df = pd.DataFrame(columns = columns_name)"
   ]
  },
  {
   "cell_type": "code",
   "execution_count": null,
   "id": "b15dd1a7",
   "metadata": {},
   "outputs": [],
   "source": [
    "main_df = main_df.append(monaco)\n",
    "main_df"
   ]
  },
  {
   "cell_type": "code",
   "execution_count": null,
   "id": "60db8ccb",
   "metadata": {},
   "outputs": [],
   "source": [
    "main_df.to_csv('f1.csv', index =False)"
   ]
  },
  {
   "cell_type": "code",
   "execution_count": null,
   "id": "fa3f48a9",
   "metadata": {},
   "outputs": [],
   "source": [
    "table = pd.read_html('https://www.formula1.com/en/results.html/2020/races.html')\n",
    "df = table[0]\n",
    "df"
   ]
  },
  {
   "cell_type": "code",
   "execution_count": null,
   "id": "17034dc5",
   "metadata": {},
   "outputs": [],
   "source": [
    "#function to pull date and track/location\n",
    "#span class = \"full-date\"\n",
    "#span class = \"circuit-info\"\n",
    "#soup.select('span.full-date').get_text()"
   ]
  },
  {
   "cell_type": "code",
   "execution_count": null,
   "id": "74237cc2",
   "metadata": {},
   "outputs": [],
   "source": [
    "austria19 = scrape.get_soup('https://www.formula1.com/en/results.html/2020/races/1045/austria/race-result.html')"
   ]
  },
  {
   "cell_type": "code",
   "execution_count": null,
   "id": "0595d46f",
   "metadata": {},
   "outputs": [],
   "source": [
    "type(austria19)"
   ]
  },
  {
   "cell_type": "code",
   "execution_count": null,
   "id": "f02c4b1e",
   "metadata": {},
   "outputs": [],
   "source": [
    "date = austria19.find(class_ = 'full-date').get_text()\n",
    "date"
   ]
  },
  {
   "cell_type": "code",
   "execution_count": null,
   "id": "cbca9252",
   "metadata": {},
   "outputs": [],
   "source": [
    "dt=date.get_text()\n",
    "dt"
   ]
  },
  {
   "cell_type": "code",
   "execution_count": null,
   "id": "fcf3e8a9",
   "metadata": {},
   "outputs": [],
   "source": [
    "info = austria19.find(class_ = 'circuit-info').get_text()\n",
    "info"
   ]
  },
  {
   "cell_type": "code",
   "execution_count": null,
   "id": "bef9adff",
   "metadata": {},
   "outputs": [],
   "source": [
    "full_date = austria19.find_all(\"p\", class_ = \"date\")\n",
    "full_date"
   ]
  },
  {
   "cell_type": "code",
   "execution_count": null,
   "id": "c3cf38d8",
   "metadata": {},
   "outputs": [],
   "source": [
    "type(full_date)"
   ]
  },
  {
   "cell_type": "code",
   "execution_count": null,
   "id": "4fdf8c2e",
   "metadata": {},
   "outputs": [],
   "source": [
    "austria19.select(\".date\")"
   ]
  },
  {
   "cell_type": "code",
   "execution_count": null,
   "id": "9d2e394f",
   "metadata": {},
   "outputs": [],
   "source": [
    "#find all span under 'p' class_ = 'date'"
   ]
  },
  {
   "cell_type": "code",
   "execution_count": null,
   "id": "bf65a110",
   "metadata": {},
   "outputs": [],
   "source": [
    "spans = austria19.select(\".date > span\")\n",
    "spans"
   ]
  },
  {
   "cell_type": "code",
   "execution_count": null,
   "id": "b0e41e39",
   "metadata": {},
   "outputs": [],
   "source": [
    "def getdateinfo(spans):\n",
    "    date = spans[1].get_text()\n",
    "    info = spans[2].get_text()\n",
    "    return (date,info)"
   ]
  },
  {
   "cell_type": "code",
   "execution_count": null,
   "id": "81b67254",
   "metadata": {},
   "outputs": [],
   "source": [
    "date_info = getdateinfo(spans)\n",
    "date_info"
   ]
  },
  {
   "cell_type": "code",
   "execution_count": null,
   "id": "a6a6b115",
   "metadata": {},
   "outputs": [],
   "source": [
    "dat_in = scrape.get_date_info(austria19)\n",
    "dat_in"
   ]
  },
  {
   "cell_type": "code",
   "execution_count": null,
   "id": "0a0e1672",
   "metadata": {},
   "outputs": [],
   "source": [
    "#working on get race names\n",
    "#div.resultsarchive-filter-wrap:nth-child(3) > ul:nth-child(1)\n",
    "race_spances = austria19.find_all(\"span\",class_ = \"resultsarchive-filter-item-link FilterTrigger selected\")"
   ]
  },
  {
   "cell_type": "code",
   "execution_count": null,
   "id": "5b47cb94",
   "metadata": {},
   "outputs": [],
   "source": [
    "race_spances"
   ]
  },
  {
   "cell_type": "code",
   "execution_count": null,
   "id": "c9539c8b",
   "metadata": {},
   "outputs": [],
   "source": [
    "race_name = austria19.find_all(class_ = \"resultsarchive-filter-item-link FilterTrigger selected\")[2].get_text().strip()\n",
    "race_name"
   ]
  },
  {
   "cell_type": "code",
   "execution_count": null,
   "id": "f5eb50cb",
   "metadata": {},
   "outputs": [],
   "source": [
    "styria_soup = scrape.get_soup('https://www.formula1.com/en/results.html/2020/races/1046/austria/race-result.html')"
   ]
  },
  {
   "cell_type": "code",
   "execution_count": null,
   "id": "cbeb78b9",
   "metadata": {},
   "outputs": [],
   "source": [
    "styria_name = scrape.get_race_name(styria_soup)\n",
    "styria_name"
   ]
  },
  {
   "cell_type": "code",
   "execution_count": null,
   "id": "0b617937",
   "metadata": {},
   "outputs": [],
   "source": [
    "for x in range(3):\n",
    "    print(x)"
   ]
  },
  {
   "cell_type": "code",
   "execution_count": 2,
   "id": "428b5fe4",
   "metadata": {},
   "outputs": [],
   "source": [
    "url_2010 = 'https://www.formula1.com/en/results.html/2010/races/860/bahrain/race-result.html'"
   ]
  },
  {
   "cell_type": "code",
   "execution_count": 3,
   "id": "4e0a5ba8",
   "metadata": {},
   "outputs": [],
   "source": [
    "soup_2010 = scrape.get_soup(url_2010)"
   ]
  },
  {
   "cell_type": "code",
   "execution_count": 4,
   "id": "7d5ade6a",
   "metadata": {},
   "outputs": [],
   "source": [
    "date,info = scrape.get_date_info(soup_2010)"
   ]
  },
  {
   "cell_type": "code",
   "execution_count": 5,
   "id": "dad35a65",
   "metadata": {},
   "outputs": [
    {
     "name": "stdout",
     "output_type": "stream",
     "text": [
      "14 Mar 2010   Bahrain International Circuit, Bahrain\n"
     ]
    }
   ],
   "source": [
    "print(date, ' ', info)"
   ]
  },
  {
   "cell_type": "code",
   "execution_count": null,
   "id": "a9a66d3f",
   "metadata": {},
   "outputs": [],
   "source": [
    "spans = soup_2010.select(\".date > span\")"
   ]
  },
  {
   "cell_type": "code",
   "execution_count": null,
   "id": "6f7f1d1d",
   "metadata": {},
   "outputs": [],
   "source": [
    "spans"
   ]
  },
  {
   "cell_type": "code",
   "execution_count": null,
   "id": "bea85127",
   "metadata": {},
   "outputs": [],
   "source": [
    "len(spans)"
   ]
  },
  {
   "cell_type": "code",
   "execution_count": 5,
   "id": "8da63560",
   "metadata": {},
   "outputs": [],
   "source": [
    "wikilink = 'https://en.wikipedia.org/wiki/List_of_Formula_One_drivers'"
   ]
  },
  {
   "cell_type": "code",
   "execution_count": 6,
   "id": "d78c033a",
   "metadata": {},
   "outputs": [],
   "source": [
    "wikitable = pd.read_html(wikilink)"
   ]
  },
  {
   "cell_type": "code",
   "execution_count": 9,
   "id": "dce166d4",
   "metadata": {},
   "outputs": [
    {
     "data": {
      "text/plain": [
       "5"
      ]
     },
     "execution_count": 9,
     "metadata": {},
     "output_type": "execute_result"
    }
   ],
   "source": [
    "len(wikitable)"
   ]
  },
  {
   "cell_type": "code",
   "execution_count": 10,
   "id": "a054f5f9",
   "metadata": {},
   "outputs": [
    {
     "data": {
      "text/html": [
       "<div>\n",
       "<style scoped>\n",
       "    .dataframe tbody tr th:only-of-type {\n",
       "        vertical-align: middle;\n",
       "    }\n",
       "\n",
       "    .dataframe tbody tr th {\n",
       "        vertical-align: top;\n",
       "    }\n",
       "\n",
       "    .dataframe thead th {\n",
       "        text-align: right;\n",
       "    }\n",
       "</style>\n",
       "<table border=\"1\" class=\"dataframe\">\n",
       "  <thead>\n",
       "    <tr style=\"text-align: right;\">\n",
       "      <th></th>\n",
       "      <th>Formula One</th>\n",
       "    </tr>\n",
       "  </thead>\n",
       "  <tbody>\n",
       "    <tr>\n",
       "      <th>0</th>\n",
       "      <td>Current season 2021 Formula One World Champion...</td>\n",
       "    </tr>\n",
       "    <tr>\n",
       "      <th>1</th>\n",
       "      <td>Related articles History of Formula One Formul...</td>\n",
       "    </tr>\n",
       "    <tr>\n",
       "      <th>2</th>\n",
       "      <td>Lists Drivers (GP winnersPolesittersFastest la...</td>\n",
       "    </tr>\n",
       "    <tr>\n",
       "      <th>3</th>\n",
       "      <td>Records Drivers Constructors Engines Tyres Races</td>\n",
       "    </tr>\n",
       "    <tr>\n",
       "      <th>4</th>\n",
       "      <td>Organisations FIA FIA World Motor Sport Counci...</td>\n",
       "    </tr>\n",
       "  </tbody>\n",
       "</table>\n",
       "</div>"
      ],
      "text/plain": [
       "                                         Formula One\n",
       "0  Current season 2021 Formula One World Champion...\n",
       "1  Related articles History of Formula One Formul...\n",
       "2  Lists Drivers (GP winnersPolesittersFastest la...\n",
       "3   Records Drivers Constructors Engines Tyres Races\n",
       "4  Organisations FIA FIA World Motor Sport Counci..."
      ]
     },
     "execution_count": 10,
     "metadata": {},
     "output_type": "execute_result"
    }
   ],
   "source": [
    "wikitable[0].head()"
   ]
  },
  {
   "cell_type": "code",
   "execution_count": 11,
   "id": "9b68b10e",
   "metadata": {},
   "outputs": [
    {
     "data": {
      "text/html": [
       "<div>\n",
       "<style scoped>\n",
       "    .dataframe tbody tr th:only-of-type {\n",
       "        vertical-align: middle;\n",
       "    }\n",
       "\n",
       "    .dataframe tbody tr th {\n",
       "        vertical-align: top;\n",
       "    }\n",
       "\n",
       "    .dataframe thead th {\n",
       "        text-align: right;\n",
       "    }\n",
       "</style>\n",
       "<table border=\"1\" class=\"dataframe\">\n",
       "  <thead>\n",
       "    <tr style=\"text-align: right;\">\n",
       "      <th></th>\n",
       "      <th>Symbol</th>\n",
       "      <th>Meaning</th>\n",
       "    </tr>\n",
       "  </thead>\n",
       "  <tbody>\n",
       "    <tr>\n",
       "      <th>0</th>\n",
       "      <td>~</td>\n",
       "      <td>Currently active world champions(driver has co...</td>\n",
       "    </tr>\n",
       "    <tr>\n",
       "      <th>1</th>\n",
       "      <td>*</td>\n",
       "      <td>Currently active drivers(driver has competed i...</td>\n",
       "    </tr>\n",
       "    <tr>\n",
       "      <th>2</th>\n",
       "      <td>^</td>\n",
       "      <td>Former world champions(driver has won the Worl...</td>\n",
       "    </tr>\n",
       "  </tbody>\n",
       "</table>\n",
       "</div>"
      ],
      "text/plain": [
       "  Symbol                                            Meaning\n",
       "0      ~  Currently active world champions(driver has co...\n",
       "1      *  Currently active drivers(driver has competed i...\n",
       "2      ^  Former world champions(driver has won the Worl..."
      ]
     },
     "execution_count": 11,
     "metadata": {},
     "output_type": "execute_result"
    }
   ],
   "source": [
    "wikitable[1].head()"
   ]
  },
  {
   "cell_type": "code",
   "execution_count": 12,
   "id": "9723e8a1",
   "metadata": {},
   "outputs": [
    {
     "data": {
      "text/html": [
       "<div>\n",
       "<style scoped>\n",
       "    .dataframe tbody tr th:only-of-type {\n",
       "        vertical-align: middle;\n",
       "    }\n",
       "\n",
       "    .dataframe tbody tr th {\n",
       "        vertical-align: top;\n",
       "    }\n",
       "\n",
       "    .dataframe thead th {\n",
       "        text-align: right;\n",
       "    }\n",
       "</style>\n",
       "<table border=\"1\" class=\"dataframe\">\n",
       "  <thead>\n",
       "    <tr style=\"text-align: right;\">\n",
       "      <th></th>\n",
       "      <th>Driver Name</th>\n",
       "      <th>Nationality</th>\n",
       "      <th>Seasons Competed</th>\n",
       "      <th>Drivers' Championships</th>\n",
       "      <th>Race Entries</th>\n",
       "      <th>Race Starts</th>\n",
       "      <th>Pole Positions</th>\n",
       "      <th>Race Wins</th>\n",
       "      <th>Podiums</th>\n",
       "      <th>Fastest laps</th>\n",
       "      <th>Points[a]</th>\n",
       "    </tr>\n",
       "  </thead>\n",
       "  <tbody>\n",
       "    <tr>\n",
       "      <th>0</th>\n",
       "      <td>Carlo Abate</td>\n",
       "      <td>Italy</td>\n",
       "      <td>1962–1963</td>\n",
       "      <td>0</td>\n",
       "      <td>3</td>\n",
       "      <td>0</td>\n",
       "      <td>0</td>\n",
       "      <td>0</td>\n",
       "      <td>0</td>\n",
       "      <td>0</td>\n",
       "      <td>0</td>\n",
       "    </tr>\n",
       "    <tr>\n",
       "      <th>1</th>\n",
       "      <td>George Abecassis</td>\n",
       "      <td>United Kingdom</td>\n",
       "      <td>1951–1952</td>\n",
       "      <td>0</td>\n",
       "      <td>2</td>\n",
       "      <td>2</td>\n",
       "      <td>0</td>\n",
       "      <td>0</td>\n",
       "      <td>0</td>\n",
       "      <td>0</td>\n",
       "      <td>0</td>\n",
       "    </tr>\n",
       "    <tr>\n",
       "      <th>2</th>\n",
       "      <td>Kenny Acheson</td>\n",
       "      <td>United Kingdom</td>\n",
       "      <td>1983, 1985</td>\n",
       "      <td>0</td>\n",
       "      <td>10</td>\n",
       "      <td>3</td>\n",
       "      <td>0</td>\n",
       "      <td>0</td>\n",
       "      <td>0</td>\n",
       "      <td>0</td>\n",
       "      <td>0</td>\n",
       "    </tr>\n",
       "    <tr>\n",
       "      <th>3</th>\n",
       "      <td>Andrea de Adamich</td>\n",
       "      <td>Italy</td>\n",
       "      <td>1968, 1970–1973</td>\n",
       "      <td>0</td>\n",
       "      <td>36</td>\n",
       "      <td>30</td>\n",
       "      <td>0</td>\n",
       "      <td>0</td>\n",
       "      <td>0</td>\n",
       "      <td>0</td>\n",
       "      <td>6</td>\n",
       "    </tr>\n",
       "    <tr>\n",
       "      <th>4</th>\n",
       "      <td>Philippe Adams</td>\n",
       "      <td>Belgium</td>\n",
       "      <td>1994</td>\n",
       "      <td>0</td>\n",
       "      <td>2</td>\n",
       "      <td>2</td>\n",
       "      <td>0</td>\n",
       "      <td>0</td>\n",
       "      <td>0</td>\n",
       "      <td>0</td>\n",
       "      <td>0</td>\n",
       "    </tr>\n",
       "  </tbody>\n",
       "</table>\n",
       "</div>"
      ],
      "text/plain": [
       "         Driver Name     Nationality Seasons Competed Drivers' Championships  \\\n",
       "0        Carlo Abate           Italy        1962–1963                      0   \n",
       "1   George Abecassis  United Kingdom        1951–1952                      0   \n",
       "2      Kenny Acheson  United Kingdom       1983, 1985                      0   \n",
       "3  Andrea de Adamich           Italy  1968, 1970–1973                      0   \n",
       "4     Philippe Adams         Belgium             1994                      0   \n",
       "\n",
       "  Race Entries Race Starts Pole Positions Race Wins Podiums Fastest laps  \\\n",
       "0            3           0              0         0       0            0   \n",
       "1            2           2              0         0       0            0   \n",
       "2           10           3              0         0       0            0   \n",
       "3           36          30              0         0       0            0   \n",
       "4            2           2              0         0       0            0   \n",
       "\n",
       "  Points[a]  \n",
       "0         0  \n",
       "1         0  \n",
       "2         0  \n",
       "3         6  \n",
       "4         0  "
      ]
     },
     "execution_count": 12,
     "metadata": {},
     "output_type": "execute_result"
    }
   ],
   "source": [
    "wikitable[2].head()"
   ]
  },
  {
   "cell_type": "code",
   "execution_count": null,
   "id": "c5fda79c",
   "metadata": {},
   "outputs": [],
   "source": []
  }
 ],
 "metadata": {
  "kernelspec": {
   "display_name": "Python 3",
   "language": "python",
   "name": "python3"
  },
  "language_info": {
   "codemirror_mode": {
    "name": "ipython",
    "version": 3
   },
   "file_extension": ".py",
   "mimetype": "text/x-python",
   "name": "python",
   "nbconvert_exporter": "python",
   "pygments_lexer": "ipython3",
   "version": "3.8.5"
  }
 },
 "nbformat": 4,
 "nbformat_minor": 5
}
