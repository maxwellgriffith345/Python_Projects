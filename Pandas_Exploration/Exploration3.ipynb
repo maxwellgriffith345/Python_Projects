{
 "cells": [
  {
   "cell_type": "code",
   "execution_count": 1,
   "id": "19e84185",
   "metadata": {},
   "outputs": [],
   "source": [
    "import numpy as np\n",
    "import pandas as pd\n",
    "import os"
   ]
  },
  {
   "cell_type": "code",
   "execution_count": 2,
   "id": "f65d223c",
   "metadata": {},
   "outputs": [],
   "source": [
    "ramen = pd.read_csv('ramen-ratings.csv')"
   ]
  },
  {
   "cell_type": "code",
   "execution_count": 6,
   "id": "ce6af1dd",
   "metadata": {},
   "outputs": [
    {
     "data": {
      "text/html": [
       "<div>\n",
       "<style scoped>\n",
       "    .dataframe tbody tr th:only-of-type {\n",
       "        vertical-align: middle;\n",
       "    }\n",
       "\n",
       "    .dataframe tbody tr th {\n",
       "        vertical-align: top;\n",
       "    }\n",
       "\n",
       "    .dataframe thead th {\n",
       "        text-align: right;\n",
       "    }\n",
       "</style>\n",
       "<table border=\"1\" class=\"dataframe\">\n",
       "  <thead>\n",
       "    <tr style=\"text-align: right;\">\n",
       "      <th></th>\n",
       "      <th>Review #</th>\n",
       "      <th>Brand</th>\n",
       "      <th>Variety</th>\n",
       "      <th>Style</th>\n",
       "      <th>Country</th>\n",
       "      <th>Stars</th>\n",
       "      <th>Top Ten</th>\n",
       "    </tr>\n",
       "  </thead>\n",
       "  <tbody>\n",
       "    <tr>\n",
       "      <th>0</th>\n",
       "      <td>2580</td>\n",
       "      <td>New Touch</td>\n",
       "      <td>T's Restaurant Tantanmen</td>\n",
       "      <td>Cup</td>\n",
       "      <td>Japan</td>\n",
       "      <td>3.75</td>\n",
       "      <td>NaN</td>\n",
       "    </tr>\n",
       "    <tr>\n",
       "      <th>1</th>\n",
       "      <td>2579</td>\n",
       "      <td>Just Way</td>\n",
       "      <td>Noodles Spicy Hot Sesame Spicy Hot Sesame Guan...</td>\n",
       "      <td>Pack</td>\n",
       "      <td>Taiwan</td>\n",
       "      <td>1</td>\n",
       "      <td>NaN</td>\n",
       "    </tr>\n",
       "    <tr>\n",
       "      <th>2</th>\n",
       "      <td>2578</td>\n",
       "      <td>Nissin</td>\n",
       "      <td>Cup Noodles Chicken Vegetable</td>\n",
       "      <td>Cup</td>\n",
       "      <td>USA</td>\n",
       "      <td>2.25</td>\n",
       "      <td>NaN</td>\n",
       "    </tr>\n",
       "    <tr>\n",
       "      <th>3</th>\n",
       "      <td>2577</td>\n",
       "      <td>Wei Lih</td>\n",
       "      <td>GGE Ramen Snack Tomato Flavor</td>\n",
       "      <td>Pack</td>\n",
       "      <td>Taiwan</td>\n",
       "      <td>2.75</td>\n",
       "      <td>NaN</td>\n",
       "    </tr>\n",
       "    <tr>\n",
       "      <th>4</th>\n",
       "      <td>2576</td>\n",
       "      <td>Ching's Secret</td>\n",
       "      <td>Singapore Curry</td>\n",
       "      <td>Pack</td>\n",
       "      <td>India</td>\n",
       "      <td>3.75</td>\n",
       "      <td>NaN</td>\n",
       "    </tr>\n",
       "  </tbody>\n",
       "</table>\n",
       "</div>"
      ],
      "text/plain": [
       "   Review #           Brand  \\\n",
       "0      2580       New Touch   \n",
       "1      2579        Just Way   \n",
       "2      2578          Nissin   \n",
       "3      2577         Wei Lih   \n",
       "4      2576  Ching's Secret   \n",
       "\n",
       "                                             Variety Style Country Stars  \\\n",
       "0                          T's Restaurant Tantanmen    Cup   Japan  3.75   \n",
       "1  Noodles Spicy Hot Sesame Spicy Hot Sesame Guan...  Pack  Taiwan     1   \n",
       "2                      Cup Noodles Chicken Vegetable   Cup     USA  2.25   \n",
       "3                      GGE Ramen Snack Tomato Flavor  Pack  Taiwan  2.75   \n",
       "4                                    Singapore Curry  Pack   India  3.75   \n",
       "\n",
       "  Top Ten  \n",
       "0     NaN  \n",
       "1     NaN  \n",
       "2     NaN  \n",
       "3     NaN  \n",
       "4     NaN  "
      ]
     },
     "execution_count": 6,
     "metadata": {},
     "output_type": "execute_result"
    }
   ],
   "source": [
    "ramen.head()"
   ]
  },
  {
   "cell_type": "code",
   "execution_count": 8,
   "id": "14304c9d",
   "metadata": {},
   "outputs": [
    {
     "data": {
      "text/plain": [
       "(2580, 7)"
      ]
     },
     "execution_count": 8,
     "metadata": {},
     "output_type": "execute_result"
    }
   ],
   "source": [
    "ramen.shape"
   ]
  },
  {
   "cell_type": "code",
   "execution_count": 11,
   "id": "ac812867",
   "metadata": {},
   "outputs": [],
   "source": [
    "pd.options.display.max_rows =20"
   ]
  },
  {
   "cell_type": "code",
   "execution_count": 12,
   "id": "4b94a288",
   "metadata": {},
   "outputs": [
    {
     "data": {
      "text/plain": [
       "Review #       0\n",
       "Brand         13\n",
       "Variety       15\n",
       "Style         15\n",
       "Country       14\n",
       "Stars         13\n",
       "Top Ten     2539\n",
       "dtype: int64"
      ]
     },
     "execution_count": 12,
     "metadata": {},
     "output_type": "execute_result"
    }
   ],
   "source": [
    "ramen.isnull().sum() #check how many missing values are in each row"
   ]
  },
  {
   "cell_type": "code",
   "execution_count": 33,
   "id": "87c55c01",
   "metadata": {
    "scrolled": true
   },
   "outputs": [
    {
     "data": {
      "text/html": [
       "<div>\n",
       "<style scoped>\n",
       "    .dataframe tbody tr th:only-of-type {\n",
       "        vertical-align: middle;\n",
       "    }\n",
       "\n",
       "    .dataframe tbody tr th {\n",
       "        vertical-align: top;\n",
       "    }\n",
       "\n",
       "    .dataframe thead th {\n",
       "        text-align: right;\n",
       "    }\n",
       "</style>\n",
       "<table border=\"1\" class=\"dataframe\">\n",
       "  <thead>\n",
       "    <tr style=\"text-align: right;\">\n",
       "      <th></th>\n",
       "      <th>Review #</th>\n",
       "      <th>Brand</th>\n",
       "      <th>Variety</th>\n",
       "      <th>Style</th>\n",
       "      <th>Country</th>\n",
       "      <th>Stars</th>\n",
       "      <th>Top Ten</th>\n",
       "    </tr>\n",
       "  </thead>\n",
       "  <tbody>\n",
       "    <tr>\n",
       "      <th>0</th>\n",
       "      <td>2580</td>\n",
       "      <td>New Touch</td>\n",
       "      <td>T's Restaurant Tantanmen</td>\n",
       "      <td>Cup</td>\n",
       "      <td>Japan</td>\n",
       "      <td>3.75</td>\n",
       "      <td>NaN</td>\n",
       "    </tr>\n",
       "    <tr>\n",
       "      <th>1</th>\n",
       "      <td>2579</td>\n",
       "      <td>Just Way</td>\n",
       "      <td>Noodles Spicy Hot Sesame Spicy Hot Sesame Guan...</td>\n",
       "      <td>Pack</td>\n",
       "      <td>Taiwan</td>\n",
       "      <td>1</td>\n",
       "      <td>NaN</td>\n",
       "    </tr>\n",
       "    <tr>\n",
       "      <th>2</th>\n",
       "      <td>2578</td>\n",
       "      <td>Nissin</td>\n",
       "      <td>Cup Noodles Chicken Vegetable</td>\n",
       "      <td>Cup</td>\n",
       "      <td>USA</td>\n",
       "      <td>2.25</td>\n",
       "      <td>NaN</td>\n",
       "    </tr>\n",
       "    <tr>\n",
       "      <th>3</th>\n",
       "      <td>2577</td>\n",
       "      <td>Wei Lih</td>\n",
       "      <td>GGE Ramen Snack Tomato Flavor</td>\n",
       "      <td>Pack</td>\n",
       "      <td>Taiwan</td>\n",
       "      <td>2.75</td>\n",
       "      <td>NaN</td>\n",
       "    </tr>\n",
       "    <tr>\n",
       "      <th>4</th>\n",
       "      <td>2576</td>\n",
       "      <td>Ching's Secret</td>\n",
       "      <td>Singapore Curry</td>\n",
       "      <td>Pack</td>\n",
       "      <td>India</td>\n",
       "      <td>3.75</td>\n",
       "      <td>NaN</td>\n",
       "    </tr>\n",
       "    <tr>\n",
       "      <th>...</th>\n",
       "      <td>...</td>\n",
       "      <td>...</td>\n",
       "      <td>...</td>\n",
       "      <td>...</td>\n",
       "      <td>...</td>\n",
       "      <td>...</td>\n",
       "      <td>...</td>\n",
       "    </tr>\n",
       "    <tr>\n",
       "      <th>2575</th>\n",
       "      <td>5</td>\n",
       "      <td>Vifon</td>\n",
       "      <td>Hu Tiu Nam Vang [\"Phnom Penh\" style] Asian Sty...</td>\n",
       "      <td>Bowl</td>\n",
       "      <td>Vietnam</td>\n",
       "      <td>3.5</td>\n",
       "      <td>NaN</td>\n",
       "    </tr>\n",
       "    <tr>\n",
       "      <th>2576</th>\n",
       "      <td>4</td>\n",
       "      <td>Wai Wai</td>\n",
       "      <td>Oriental Style Instant Noodles</td>\n",
       "      <td>Pack</td>\n",
       "      <td>Thailand</td>\n",
       "      <td>1</td>\n",
       "      <td>NaN</td>\n",
       "    </tr>\n",
       "    <tr>\n",
       "      <th>2577</th>\n",
       "      <td>3</td>\n",
       "      <td>Wai Wai</td>\n",
       "      <td>Tom Yum Shrimp</td>\n",
       "      <td>Pack</td>\n",
       "      <td>Thailand</td>\n",
       "      <td>2</td>\n",
       "      <td>NaN</td>\n",
       "    </tr>\n",
       "    <tr>\n",
       "      <th>2578</th>\n",
       "      <td>2</td>\n",
       "      <td>Wai Wai</td>\n",
       "      <td>Tom Yum Chili Flavor</td>\n",
       "      <td>Pack</td>\n",
       "      <td>Thailand</td>\n",
       "      <td>2</td>\n",
       "      <td>NaN</td>\n",
       "    </tr>\n",
       "    <tr>\n",
       "      <th>2579</th>\n",
       "      <td>1</td>\n",
       "      <td>Westbrae</td>\n",
       "      <td>Miso Ramen</td>\n",
       "      <td>Pack</td>\n",
       "      <td>USA</td>\n",
       "      <td>0.5</td>\n",
       "      <td>NaN</td>\n",
       "    </tr>\n",
       "  </tbody>\n",
       "</table>\n",
       "<p>2539 rows × 7 columns</p>\n",
       "</div>"
      ],
      "text/plain": [
       "      Review #           Brand  \\\n",
       "0         2580       New Touch   \n",
       "1         2579        Just Way   \n",
       "2         2578          Nissin   \n",
       "3         2577         Wei Lih   \n",
       "4         2576  Ching's Secret   \n",
       "...        ...             ...   \n",
       "2575         5           Vifon   \n",
       "2576         4         Wai Wai   \n",
       "2577         3         Wai Wai   \n",
       "2578         2         Wai Wai   \n",
       "2579         1        Westbrae   \n",
       "\n",
       "                                                Variety Style   Country Stars  \\\n",
       "0                             T's Restaurant Tantanmen    Cup     Japan  3.75   \n",
       "1     Noodles Spicy Hot Sesame Spicy Hot Sesame Guan...  Pack    Taiwan     1   \n",
       "2                         Cup Noodles Chicken Vegetable   Cup       USA  2.25   \n",
       "3                         GGE Ramen Snack Tomato Flavor  Pack    Taiwan  2.75   \n",
       "4                                       Singapore Curry  Pack     India  3.75   \n",
       "...                                                 ...   ...       ...   ...   \n",
       "2575  Hu Tiu Nam Vang [\"Phnom Penh\" style] Asian Sty...  Bowl   Vietnam   3.5   \n",
       "2576                     Oriental Style Instant Noodles  Pack  Thailand     1   \n",
       "2577                                     Tom Yum Shrimp  Pack  Thailand     2   \n",
       "2578                               Tom Yum Chili Flavor  Pack  Thailand     2   \n",
       "2579                                         Miso Ramen  Pack       USA   0.5   \n",
       "\n",
       "     Top Ten  \n",
       "0        NaN  \n",
       "1        NaN  \n",
       "2        NaN  \n",
       "3        NaN  \n",
       "4        NaN  \n",
       "...      ...  \n",
       "2575     NaN  \n",
       "2576     NaN  \n",
       "2577     NaN  \n",
       "2578     NaN  \n",
       "2579     NaN  \n",
       "\n",
       "[2539 rows x 7 columns]"
      ]
     },
     "execution_count": 33,
     "metadata": {},
     "output_type": "execute_result"
    }
   ],
   "source": [
    "#create df with only rows that have null values to later do a NA analysis\n",
    "#df[df.isna().any(axis=1)]\n",
    "null_ramen = ramen[ramen.isna().any(axis=1)]\n",
    "null_ramen"
   ]
  },
  {
   "cell_type": "code",
   "execution_count": 52,
   "id": "513cfff6",
   "metadata": {},
   "outputs": [
    {
     "data": {
      "text/plain": [
       "Index(['Review #', 'Brand', 'Variety', 'Style', 'Country', 'Stars'], dtype='object')"
      ]
     },
     "execution_count": 52,
     "metadata": {},
     "output_type": "execute_result"
    }
   ],
   "source": [
    "#top ten column is throughing it off\n",
    "na_columns = ramen.columns.drop(\"Top Ten\")\n",
    "na_columns"
   ]
  },
  {
   "cell_type": "code",
   "execution_count": 57,
   "id": "83c3a7f4",
   "metadata": {},
   "outputs": [
    {
     "data": {
      "text/html": [
       "<div>\n",
       "<style scoped>\n",
       "    .dataframe tbody tr th:only-of-type {\n",
       "        vertical-align: middle;\n",
       "    }\n",
       "\n",
       "    .dataframe tbody tr th {\n",
       "        vertical-align: top;\n",
       "    }\n",
       "\n",
       "    .dataframe thead th {\n",
       "        text-align: right;\n",
       "    }\n",
       "</style>\n",
       "<table border=\"1\" class=\"dataframe\">\n",
       "  <thead>\n",
       "    <tr style=\"text-align: right;\">\n",
       "      <th></th>\n",
       "      <th>Review #</th>\n",
       "      <th>Brand</th>\n",
       "      <th>Variety</th>\n",
       "      <th>Style</th>\n",
       "      <th>Country</th>\n",
       "      <th>Stars</th>\n",
       "      <th>Top Ten</th>\n",
       "    </tr>\n",
       "  </thead>\n",
       "  <tbody>\n",
       "    <tr>\n",
       "      <th>130</th>\n",
       "      <td>2450</td>\n",
       "      <td>NaN</td>\n",
       "      <td>NaN</td>\n",
       "      <td>NaN</td>\n",
       "      <td>NaN</td>\n",
       "      <td>NaN</td>\n",
       "      <td>NaN</td>\n",
       "    </tr>\n",
       "    <tr>\n",
       "      <th>242</th>\n",
       "      <td>2338</td>\n",
       "      <td>NaN</td>\n",
       "      <td>NaN</td>\n",
       "      <td>NaN</td>\n",
       "      <td>NaN</td>\n",
       "      <td>NaN</td>\n",
       "      <td>NaN</td>\n",
       "    </tr>\n",
       "    <tr>\n",
       "      <th>243</th>\n",
       "      <td>2337</td>\n",
       "      <td>NaN</td>\n",
       "      <td>NaN</td>\n",
       "      <td>NaN</td>\n",
       "      <td>NaN</td>\n",
       "      <td>NaN</td>\n",
       "      <td>NaN</td>\n",
       "    </tr>\n",
       "    <tr>\n",
       "      <th>244</th>\n",
       "      <td>2336</td>\n",
       "      <td>NaN</td>\n",
       "      <td>NaN</td>\n",
       "      <td>NaN</td>\n",
       "      <td>NaN</td>\n",
       "      <td>NaN</td>\n",
       "      <td>NaN</td>\n",
       "    </tr>\n",
       "    <tr>\n",
       "      <th>245</th>\n",
       "      <td>2335</td>\n",
       "      <td>NaN</td>\n",
       "      <td>NaN</td>\n",
       "      <td>NaN</td>\n",
       "      <td>NaN</td>\n",
       "      <td>NaN</td>\n",
       "      <td>NaN</td>\n",
       "    </tr>\n",
       "    <tr>\n",
       "      <th>444</th>\n",
       "      <td>2136</td>\n",
       "      <td>NaN</td>\n",
       "      <td>NaN</td>\n",
       "      <td>NaN</td>\n",
       "      <td>NaN</td>\n",
       "      <td>NaN</td>\n",
       "      <td>NaN</td>\n",
       "    </tr>\n",
       "    <tr>\n",
       "      <th>560</th>\n",
       "      <td>2020</td>\n",
       "      <td>NaN</td>\n",
       "      <td>NaN</td>\n",
       "      <td>NaN</td>\n",
       "      <td>NaN</td>\n",
       "      <td>NaN</td>\n",
       "      <td>NaN</td>\n",
       "    </tr>\n",
       "    <tr>\n",
       "      <th>696</th>\n",
       "      <td>1884</td>\n",
       "      <td>NaN</td>\n",
       "      <td>NaN</td>\n",
       "      <td>NaN</td>\n",
       "      <td>NaN</td>\n",
       "      <td>NaN</td>\n",
       "      <td>NaN</td>\n",
       "    </tr>\n",
       "    <tr>\n",
       "      <th>703</th>\n",
       "      <td>1877</td>\n",
       "      <td>NaN</td>\n",
       "      <td>NaN</td>\n",
       "      <td>NaN</td>\n",
       "      <td>NaN</td>\n",
       "      <td>NaN</td>\n",
       "      <td>NaN</td>\n",
       "    </tr>\n",
       "    <tr>\n",
       "      <th>777</th>\n",
       "      <td>1803</td>\n",
       "      <td>NaN</td>\n",
       "      <td>NaN</td>\n",
       "      <td>NaN</td>\n",
       "      <td>NaN</td>\n",
       "      <td>NaN</td>\n",
       "      <td>NaN</td>\n",
       "    </tr>\n",
       "    <tr>\n",
       "      <th>900</th>\n",
       "      <td>1680</td>\n",
       "      <td>NaN</td>\n",
       "      <td>NaN</td>\n",
       "      <td>NaN</td>\n",
       "      <td>NaN</td>\n",
       "      <td>NaN</td>\n",
       "      <td>NaN</td>\n",
       "    </tr>\n",
       "    <tr>\n",
       "      <th>1001</th>\n",
       "      <td>1579</td>\n",
       "      <td>NaN</td>\n",
       "      <td>NaN</td>\n",
       "      <td>NaN</td>\n",
       "      <td>NaN</td>\n",
       "      <td>NaN</td>\n",
       "      <td>NaN</td>\n",
       "    </tr>\n",
       "    <tr>\n",
       "      <th>1170</th>\n",
       "      <td>1410</td>\n",
       "      <td>Adabi</td>\n",
       "      <td>NaN</td>\n",
       "      <td>Pack</td>\n",
       "      <td>Malaysia</td>\n",
       "      <td>3.25</td>\n",
       "      <td>NaN</td>\n",
       "    </tr>\n",
       "    <tr>\n",
       "      <th>1173</th>\n",
       "      <td>1407</td>\n",
       "      <td>Annie Chun's</td>\n",
       "      <td>Ramen House Thai Coconut Ramen</td>\n",
       "      <td>Pack</td>\n",
       "      <td>NaN</td>\n",
       "      <td>5</td>\n",
       "      <td>NaN</td>\n",
       "    </tr>\n",
       "    <tr>\n",
       "      <th>1182</th>\n",
       "      <td>1398</td>\n",
       "      <td>NaN</td>\n",
       "      <td>NaN</td>\n",
       "      <td>NaN</td>\n",
       "      <td>NaN</td>\n",
       "      <td>NaN</td>\n",
       "      <td>NaN</td>\n",
       "    </tr>\n",
       "    <tr>\n",
       "      <th>1191</th>\n",
       "      <td>1389</td>\n",
       "      <td>Tiger Tiger</td>\n",
       "      <td>NaN</td>\n",
       "      <td>Pack</td>\n",
       "      <td>UK</td>\n",
       "      <td>1.75</td>\n",
       "      <td>NaN</td>\n",
       "    </tr>\n",
       "    <tr>\n",
       "      <th>2152</th>\n",
       "      <td>428</td>\n",
       "      <td>Kamfen</td>\n",
       "      <td>E Menm Chicken</td>\n",
       "      <td>NaN</td>\n",
       "      <td>China</td>\n",
       "      <td>3.75</td>\n",
       "      <td>NaN</td>\n",
       "    </tr>\n",
       "    <tr>\n",
       "      <th>2442</th>\n",
       "      <td>138</td>\n",
       "      <td>Unif</td>\n",
       "      <td>100 Furong Shrimp</td>\n",
       "      <td>NaN</td>\n",
       "      <td>Taiwan</td>\n",
       "      <td>3</td>\n",
       "      <td>NaN</td>\n",
       "    </tr>\n",
       "  </tbody>\n",
       "</table>\n",
       "</div>"
      ],
      "text/plain": [
       "      Review #         Brand                         Variety Style   Country  \\\n",
       "130       2450           NaN                             NaN   NaN       NaN   \n",
       "242       2338           NaN                             NaN   NaN       NaN   \n",
       "243       2337           NaN                             NaN   NaN       NaN   \n",
       "244       2336           NaN                             NaN   NaN       NaN   \n",
       "245       2335           NaN                             NaN   NaN       NaN   \n",
       "444       2136           NaN                             NaN   NaN       NaN   \n",
       "560       2020           NaN                             NaN   NaN       NaN   \n",
       "696       1884           NaN                             NaN   NaN       NaN   \n",
       "703       1877           NaN                             NaN   NaN       NaN   \n",
       "777       1803           NaN                             NaN   NaN       NaN   \n",
       "900       1680           NaN                             NaN   NaN       NaN   \n",
       "1001      1579           NaN                             NaN   NaN       NaN   \n",
       "1170      1410         Adabi                             NaN  Pack  Malaysia   \n",
       "1173      1407  Annie Chun's  Ramen House Thai Coconut Ramen  Pack       NaN   \n",
       "1182      1398           NaN                             NaN   NaN       NaN   \n",
       "1191      1389   Tiger Tiger                             NaN  Pack        UK   \n",
       "2152       428        Kamfen                  E Menm Chicken   NaN     China   \n",
       "2442       138          Unif               100 Furong Shrimp   NaN    Taiwan   \n",
       "\n",
       "     Stars Top Ten  \n",
       "130    NaN     NaN  \n",
       "242    NaN     NaN  \n",
       "243    NaN     NaN  \n",
       "244    NaN     NaN  \n",
       "245    NaN     NaN  \n",
       "444    NaN     NaN  \n",
       "560    NaN     NaN  \n",
       "696    NaN     NaN  \n",
       "703    NaN     NaN  \n",
       "777    NaN     NaN  \n",
       "900    NaN     NaN  \n",
       "1001   NaN     NaN  \n",
       "1170  3.25     NaN  \n",
       "1173     5     NaN  \n",
       "1182   NaN     NaN  \n",
       "1191  1.75     NaN  \n",
       "2152  3.75     NaN  \n",
       "2442     3     NaN  "
      ]
     },
     "execution_count": 57,
     "metadata": {},
     "output_type": "execute_result"
    }
   ],
   "source": [
    "null_ramen = ramen[ramen[na_columns].isna().any(axis=1)]\n",
    "null_ramen"
   ]
  },
  {
   "cell_type": "code",
   "execution_count": 11,
   "id": "f160022c",
   "metadata": {},
   "outputs": [],
   "source": [
    "cleaned_ramen = ramen.dropna() #drop any row containing a missing value"
   ]
  },
  {
   "cell_type": "code",
   "execution_count": 13,
   "id": "b233496d",
   "metadata": {},
   "outputs": [
    {
     "data": {
      "text/plain": [
       "(41, 7)"
      ]
     },
     "execution_count": 13,
     "metadata": {},
     "output_type": "execute_result"
    }
   ],
   "source": [
    "cleaned_ramen.shape #too much deleted"
   ]
  },
  {
   "cell_type": "code",
   "execution_count": 14,
   "id": "d95aa248",
   "metadata": {},
   "outputs": [],
   "source": [
    "clean_ramen = ramen.dropna(how = 'all')"
   ]
  },
  {
   "cell_type": "code",
   "execution_count": 15,
   "id": "578e6b28",
   "metadata": {},
   "outputs": [
    {
     "data": {
      "text/plain": [
       "(2580, 7)"
      ]
     },
     "execution_count": 15,
     "metadata": {},
     "output_type": "execute_result"
    }
   ],
   "source": [
    "clean_ramen.shape #no rows deleted"
   ]
  },
  {
   "cell_type": "code",
   "execution_count": 16,
   "id": "2bd74b91",
   "metadata": {},
   "outputs": [],
   "source": [
    "droprow_ramen = ramen.dropna(axis= 1)"
   ]
  },
  {
   "cell_type": "code",
   "execution_count": 17,
   "id": "edce0cae",
   "metadata": {},
   "outputs": [
    {
     "data": {
      "text/plain": [
       "(2580, 1)"
      ]
     },
     "execution_count": 17,
     "metadata": {},
     "output_type": "execute_result"
    }
   ],
   "source": [
    "droprow_ramen.shape #dropped every row but one"
   ]
  },
  {
   "cell_type": "code",
   "execution_count": 18,
   "id": "204dcece",
   "metadata": {},
   "outputs": [],
   "source": [
    "dropr_ramen = ramen.dropna(how = 'all', axis =1)"
   ]
  },
  {
   "cell_type": "code",
   "execution_count": 22,
   "id": "9fd51e4f",
   "metadata": {},
   "outputs": [
    {
     "data": {
      "text/plain": [
       "(2580, 7)"
      ]
     },
     "execution_count": 22,
     "metadata": {},
     "output_type": "execute_result"
    }
   ],
   "source": [
    "dropr_ramen.shape # no columns deleted so no column with all nulls"
   ]
  },
  {
   "cell_type": "code",
   "execution_count": 23,
   "id": "b00eef3f",
   "metadata": {},
   "outputs": [],
   "source": [
    "#how to drop a row with some missing values in a spcific column/columns but not all and not one?"
   ]
  },
  {
   "cell_type": "code",
   "execution_count": 5,
   "id": "afd3722b",
   "metadata": {},
   "outputs": [],
   "source": [
    "good_ramen = ramen.dropna(thresh = 3)"
   ]
  },
  {
   "cell_type": "code",
   "execution_count": 6,
   "id": "05d43fcc",
   "metadata": {},
   "outputs": [
    {
     "data": {
      "text/plain": [
       "(2567, 7)"
      ]
     },
     "execution_count": 6,
     "metadata": {},
     "output_type": "execute_result"
    }
   ],
   "source": [
    "good_ramen.shape #what we want"
   ]
  },
  {
   "cell_type": "code",
   "execution_count": 10,
   "id": "4080d4b5",
   "metadata": {},
   "outputs": [
    {
     "data": {
      "text/plain": [
       "0"
      ]
     },
     "execution_count": 10,
     "metadata": {},
     "output_type": "execute_result"
    }
   ],
   "source": [
    "#check for duplicates\n",
    "good_ramen.duplicated().sum() #no duplicates"
   ]
  },
  {
   "cell_type": "code",
   "execution_count": 62,
   "id": "2e558dca",
   "metadata": {},
   "outputs": [
    {
     "data": {
      "text/plain": [
       "array(['Japan', 'Taiwan', 'USA', 'India', 'South Korea', 'Singapore',\n",
       "       'Thailand', 'Hong Kong', 'Vietnam', 'Ghana', 'Malaysia',\n",
       "       'Indonesia', 'China', 'Nigeria', 'Germany', 'Hungary', 'Mexico',\n",
       "       'Fiji', 'Australia', 'Pakistan', 'Bangladesh', 'Canada', 'Nepal',\n",
       "       'Brazil', 'UK', 'Myanmar', 'Netherlands', 'United States',\n",
       "       'Cambodia', 'Finland', 'Sarawak', 'Philippines', 'Sweden',\n",
       "       'Colombia', nan, 'Estonia', 'Holland', 'Poland', 'Dubai'],\n",
       "      dtype=object)"
      ]
     },
     "execution_count": 62,
     "metadata": {},
     "output_type": "execute_result"
    }
   ],
   "source": [
    "#mapping a new column \"region\"\n",
    "good_ramen['Country'].unique()"
   ]
  },
  {
   "cell_type": "code",
   "execution_count": 69,
   "id": "9e96a52f",
   "metadata": {},
   "outputs": [],
   "source": [
    "country_to_region = {\n",
    "    'Japan' :'Asia',\n",
    "    'Taiwan' : 'Asia',\n",
    "    'USA': 'North America',\n",
    "    'India' : 'Asia',\n",
    "    'Singapore': 'Asia',\n",
    "    'Thailand' : 'Asia',\n",
    "    'Hong Kong': 'Asia', \n",
    "    'Veitnam' : 'Asia',\n",
    "    'Ghana': 'Africa', \n",
    "    'Malaysia' : 'Asia',\n",
    "    'Indonesia' : 'Asia', \n",
    "    'China' : 'Asia',\n",
    "    'Nigeria' : 'Africa', \n",
    "    'Germany' : 'Europe', \n",
    "    'Hungary' : 'Europe', \n",
    "    'Mexico' : 'North America',\n",
    "    'Fiji' : 'Oceania', \n",
    "    'Australia' : 'Oceania', \n",
    "    'Pakistan' : 'Mid East', \n",
    "    'Bangladesh' : 'Asia', \n",
    "    'Canada' : 'North America', \n",
    "    'Nepal' : 'Africa', \n",
    "    'Brazil' : 'South America',\n",
    "    'UK' : 'Europe', \n",
    "    'Myanmar' : 'Asia',\n",
    "    'Netherlands' : 'Europe', \n",
    "    'United States' : 'North America', \n",
    "    'Cambodia' : 'Asia', \n",
    "    'Finland' : 'Europe', \n",
    "    'Sarawak' : 'Asia',\n",
    "    'Philippines' : 'Asia', \n",
    "    'Sweden' : 'Europe', \n",
    "    'Colombia' : 'South America', \n",
    "    'Estonia' : 'Europe', \n",
    "    'Holland' : 'Europe', \n",
    "    'Poland' : 'Europe',\n",
    "    'Dubai': 'Mid East'\n",
    "    \n",
    "}"
   ]
  },
  {
   "cell_type": "code",
   "execution_count": 70,
   "id": "68367636",
   "metadata": {},
   "outputs": [
    {
     "name": "stderr",
     "output_type": "stream",
     "text": [
      "<ipython-input-70-058404a18504>:1: SettingWithCopyWarning: \n",
      "A value is trying to be set on a copy of a slice from a DataFrame.\n",
      "Try using .loc[row_indexer,col_indexer] = value instead\n",
      "\n",
      "See the caveats in the documentation: https://pandas.pydata.org/pandas-docs/stable/user_guide/indexing.html#returning-a-view-versus-a-copy\n",
      "  good_ramen['Region']= good_ramen['Country'].map(country_to_region)\n"
     ]
    }
   ],
   "source": [
    "good_ramen['Region']= good_ramen['Country'].map(country_to_region)"
   ]
  },
  {
   "cell_type": "code",
   "execution_count": 71,
   "id": "1b62fc1c",
   "metadata": {},
   "outputs": [
    {
     "data": {
      "text/html": [
       "<div>\n",
       "<style scoped>\n",
       "    .dataframe tbody tr th:only-of-type {\n",
       "        vertical-align: middle;\n",
       "    }\n",
       "\n",
       "    .dataframe tbody tr th {\n",
       "        vertical-align: top;\n",
       "    }\n",
       "\n",
       "    .dataframe thead th {\n",
       "        text-align: right;\n",
       "    }\n",
       "</style>\n",
       "<table border=\"1\" class=\"dataframe\">\n",
       "  <thead>\n",
       "    <tr style=\"text-align: right;\">\n",
       "      <th></th>\n",
       "      <th>Review #</th>\n",
       "      <th>Brand</th>\n",
       "      <th>Variety</th>\n",
       "      <th>Style</th>\n",
       "      <th>Country</th>\n",
       "      <th>Stars</th>\n",
       "      <th>Top Ten</th>\n",
       "      <th>Region</th>\n",
       "    </tr>\n",
       "  </thead>\n",
       "  <tbody>\n",
       "    <tr>\n",
       "      <th>0</th>\n",
       "      <td>2580</td>\n",
       "      <td>New Touch</td>\n",
       "      <td>T's Restaurant Tantanmen</td>\n",
       "      <td>Cup</td>\n",
       "      <td>Japan</td>\n",
       "      <td>3.75</td>\n",
       "      <td>NaN</td>\n",
       "      <td>Asia</td>\n",
       "    </tr>\n",
       "    <tr>\n",
       "      <th>1</th>\n",
       "      <td>2579</td>\n",
       "      <td>Just Way</td>\n",
       "      <td>Noodles Spicy Hot Sesame Spicy Hot Sesame Guan...</td>\n",
       "      <td>Pack</td>\n",
       "      <td>Taiwan</td>\n",
       "      <td>1</td>\n",
       "      <td>NaN</td>\n",
       "      <td>Asia</td>\n",
       "    </tr>\n",
       "    <tr>\n",
       "      <th>2</th>\n",
       "      <td>2578</td>\n",
       "      <td>Nissin</td>\n",
       "      <td>Cup Noodles Chicken Vegetable</td>\n",
       "      <td>Cup</td>\n",
       "      <td>USA</td>\n",
       "      <td>2.25</td>\n",
       "      <td>NaN</td>\n",
       "      <td>North America</td>\n",
       "    </tr>\n",
       "    <tr>\n",
       "      <th>3</th>\n",
       "      <td>2577</td>\n",
       "      <td>Wei Lih</td>\n",
       "      <td>GGE Ramen Snack Tomato Flavor</td>\n",
       "      <td>Pack</td>\n",
       "      <td>Taiwan</td>\n",
       "      <td>2.75</td>\n",
       "      <td>NaN</td>\n",
       "      <td>Asia</td>\n",
       "    </tr>\n",
       "    <tr>\n",
       "      <th>4</th>\n",
       "      <td>2576</td>\n",
       "      <td>Ching's Secret</td>\n",
       "      <td>Singapore Curry</td>\n",
       "      <td>Pack</td>\n",
       "      <td>India</td>\n",
       "      <td>3.75</td>\n",
       "      <td>NaN</td>\n",
       "      <td>Asia</td>\n",
       "    </tr>\n",
       "  </tbody>\n",
       "</table>\n",
       "</div>"
      ],
      "text/plain": [
       "   Review #           Brand  \\\n",
       "0      2580       New Touch   \n",
       "1      2579        Just Way   \n",
       "2      2578          Nissin   \n",
       "3      2577         Wei Lih   \n",
       "4      2576  Ching's Secret   \n",
       "\n",
       "                                             Variety Style Country Stars  \\\n",
       "0                          T's Restaurant Tantanmen    Cup   Japan  3.75   \n",
       "1  Noodles Spicy Hot Sesame Spicy Hot Sesame Guan...  Pack  Taiwan     1   \n",
       "2                      Cup Noodles Chicken Vegetable   Cup     USA  2.25   \n",
       "3                      GGE Ramen Snack Tomato Flavor  Pack  Taiwan  2.75   \n",
       "4                                    Singapore Curry  Pack   India  3.75   \n",
       "\n",
       "  Top Ten         Region  \n",
       "0     NaN           Asia  \n",
       "1     NaN           Asia  \n",
       "2     NaN  North America  \n",
       "3     NaN           Asia  \n",
       "4     NaN           Asia  "
      ]
     },
     "execution_count": 71,
     "metadata": {},
     "output_type": "execute_result"
    }
   ],
   "source": [
    "good_ramen.head()"
   ]
  },
  {
   "cell_type": "code",
   "execution_count": null,
   "id": "db096aaf",
   "metadata": {},
   "outputs": [],
   "source": []
  }
 ],
 "metadata": {
  "kernelspec": {
   "display_name": "Python 3",
   "language": "python",
   "name": "python3"
  },
  "language_info": {
   "codemirror_mode": {
    "name": "ipython",
    "version": 3
   },
   "file_extension": ".py",
   "mimetype": "text/x-python",
   "name": "python",
   "nbconvert_exporter": "python",
   "pygments_lexer": "ipython3",
   "version": "3.8.5"
  }
 },
 "nbformat": 4,
 "nbformat_minor": 5
}
